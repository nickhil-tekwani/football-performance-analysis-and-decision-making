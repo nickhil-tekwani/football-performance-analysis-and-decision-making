{
 "cells": [
  {
   "cell_type": "markdown",
   "metadata": {
    "id": "d6y8TkNIWSiE"
   },
   "source": [
    "# Final Project Conclusions"
   ]
  },
  {
   "cell_type": "markdown",
   "metadata": {
    "id": "4GQdyQ-6WS-V"
   },
   "source": [
    "# Overview"
   ]
  },
  {
   "cell_type": "code",
   "execution_count": 1,
   "metadata": {},
   "outputs": [],
   "source": [
    "import io\n",
    "import pandas as pd\n",
    "\n",
    "import numpy as np\n",
    "\n",
    "from sklearn.metrics import accuracy_score, recall_score, precision_score, roc_auc_score, roc_curve, f1_score, classification_report, confusion_matrix\n",
    "\n",
    "import matplotlib.pyplot as plt\n",
    "%matplotlib inline\n",
    "from matplotlib.colors import ListedColormap\n",
    "\n",
    "import seaborn as sns\n",
    "sns.set(style = 'darkgrid', context = 'talk')\n",
    "\n",
    "import pickle\n",
    "\n",
    "import warnings\n",
    "warnings.filterwarnings('ignore')"
   ]
  },
  {
   "cell_type": "code",
   "execution_count": 2,
   "metadata": {
    "executionInfo": {
     "elapsed": 284,
     "status": "ok",
     "timestamp": 1623928051347,
     "user": {
      "displayName": "Westin Swager",
      "photoUrl": "https://lh3.googleusercontent.com/a-/AOh14Ggc5FX85sLh-aVg8DzZeM6Y_apKolVWrP93ClFkIw=s64",
      "userId": "13397752590549051546"
     },
     "user_tz": 300
    },
    "id": "zpNwksTeckxj"
   },
   "outputs": [],
   "source": [
    "# Import cleaned_data from expected_goals_data_cleaning_notebook\n",
    "\n",
    "cleaned_data = pd.read_csv('./final_statsbomb_data/cleaned_data.csv')"
   ]
  },
  {
   "cell_type": "code",
   "execution_count": 3,
   "metadata": {
    "executionInfo": {
     "elapsed": 8,
     "status": "ok",
     "timestamp": 1623927935094,
     "user": {
      "displayName": "Westin Swager",
      "photoUrl": "https://lh3.googleusercontent.com/a-/AOh14Ggc5FX85sLh-aVg8DzZeM6Y_apKolVWrP93ClFkIw=s64",
      "userId": "13397752590549051546"
     },
     "user_tz": 300
    },
    "id": "z3VRQrDJcmTI"
   },
   "outputs": [
    {
     "data": {
      "text/html": [
       "<div>\n",
       "<style scoped>\n",
       "    .dataframe tbody tr th:only-of-type {\n",
       "        vertical-align: middle;\n",
       "    }\n",
       "\n",
       "    .dataframe tbody tr th {\n",
       "        vertical-align: top;\n",
       "    }\n",
       "\n",
       "    .dataframe thead th {\n",
       "        text-align: right;\n",
       "    }\n",
       "</style>\n",
       "<table border=\"1\" class=\"dataframe\">\n",
       "  <thead>\n",
       "    <tr style=\"text-align: right;\">\n",
       "      <th></th>\n",
       "      <th>statsbomb_xg</th>\n",
       "      <th>goal</th>\n",
       "      <th>time</th>\n",
       "      <th>player</th>\n",
       "      <th>team</th>\n",
       "      <th>shot_distance</th>\n",
       "      <th>inside_18</th>\n",
       "      <th>shot_angle</th>\n",
       "      <th>bodypart</th>\n",
       "      <th>technique</th>\n",
       "      <th>first_touch</th>\n",
       "      <th>assist</th>\n",
       "      <th>state_of_play</th>\n",
       "    </tr>\n",
       "  </thead>\n",
       "  <tbody>\n",
       "    <tr>\n",
       "      <th>0</th>\n",
       "      <td>0.157454</td>\n",
       "      <td>False</td>\n",
       "      <td>0</td>\n",
       "      <td>Khadija Monifa Shaw</td>\n",
       "      <td>Manchester City WFC</td>\n",
       "      <td>13.231024</td>\n",
       "      <td>True</td>\n",
       "      <td>55.47</td>\n",
       "      <td>Right Foot</td>\n",
       "      <td>Volley</td>\n",
       "      <td>True</td>\n",
       "      <td>Low Pass</td>\n",
       "      <td>Open Play - Shot</td>\n",
       "    </tr>\n",
       "    <tr>\n",
       "      <th>1</th>\n",
       "      <td>0.089495</td>\n",
       "      <td>False</td>\n",
       "      <td>2</td>\n",
       "      <td>Khadija Monifa Shaw</td>\n",
       "      <td>Manchester City WFC</td>\n",
       "      <td>9.481034</td>\n",
       "      <td>True</td>\n",
       "      <td>52.28</td>\n",
       "      <td>Left Foot</td>\n",
       "      <td>Volley</td>\n",
       "      <td>True</td>\n",
       "      <td>High Pass</td>\n",
       "      <td>Open Play - Shot</td>\n",
       "    </tr>\n",
       "    <tr>\n",
       "      <th>2</th>\n",
       "      <td>0.009850</td>\n",
       "      <td>False</td>\n",
       "      <td>4</td>\n",
       "      <td>Laura Coombs</td>\n",
       "      <td>Manchester City WFC</td>\n",
       "      <td>26.109385</td>\n",
       "      <td>False</td>\n",
       "      <td>60.39</td>\n",
       "      <td>Right Foot</td>\n",
       "      <td>Ground</td>\n",
       "      <td>False</td>\n",
       "      <td>Ground Pass</td>\n",
       "      <td>Open Play - Shot</td>\n",
       "    </tr>\n",
       "    <tr>\n",
       "      <th>3</th>\n",
       "      <td>0.115049</td>\n",
       "      <td>False</td>\n",
       "      <td>4</td>\n",
       "      <td>Khadija Monifa Shaw</td>\n",
       "      <td>Manchester City WFC</td>\n",
       "      <td>13.607718</td>\n",
       "      <td>True</td>\n",
       "      <td>29.01</td>\n",
       "      <td>Left Foot</td>\n",
       "      <td>Ground</td>\n",
       "      <td>True</td>\n",
       "      <td>Ground Pass</td>\n",
       "      <td>Open Play - Shot</td>\n",
       "    </tr>\n",
       "    <tr>\n",
       "      <th>4</th>\n",
       "      <td>0.015118</td>\n",
       "      <td>False</td>\n",
       "      <td>5</td>\n",
       "      <td>Ingrid Filippa Angeldal</td>\n",
       "      <td>Manchester City WFC</td>\n",
       "      <td>34.558356</td>\n",
       "      <td>False</td>\n",
       "      <td>77.97</td>\n",
       "      <td>Right Foot</td>\n",
       "      <td>Ground</td>\n",
       "      <td>False</td>\n",
       "      <td>Ground Pass</td>\n",
       "      <td>Open Play - Shot</td>\n",
       "    </tr>\n",
       "  </tbody>\n",
       "</table>\n",
       "</div>"
      ],
      "text/plain": [
       "   statsbomb_xg   goal  time                   player                 team  \\\n",
       "0      0.157454  False     0      Khadija Monifa Shaw  Manchester City WFC   \n",
       "1      0.089495  False     2      Khadija Monifa Shaw  Manchester City WFC   \n",
       "2      0.009850  False     4             Laura Coombs  Manchester City WFC   \n",
       "3      0.115049  False     4      Khadija Monifa Shaw  Manchester City WFC   \n",
       "4      0.015118  False     5  Ingrid Filippa Angeldal  Manchester City WFC   \n",
       "\n",
       "   shot_distance  inside_18  shot_angle    bodypart technique  first_touch  \\\n",
       "0      13.231024       True       55.47  Right Foot    Volley         True   \n",
       "1       9.481034       True       52.28   Left Foot    Volley         True   \n",
       "2      26.109385      False       60.39  Right Foot    Ground        False   \n",
       "3      13.607718       True       29.01   Left Foot    Ground         True   \n",
       "4      34.558356      False       77.97  Right Foot    Ground        False   \n",
       "\n",
       "        assist     state_of_play  \n",
       "0     Low Pass  Open Play - Shot  \n",
       "1    High Pass  Open Play - Shot  \n",
       "2  Ground Pass  Open Play - Shot  \n",
       "3  Ground Pass  Open Play - Shot  \n",
       "4  Ground Pass  Open Play - Shot  "
      ]
     },
     "execution_count": 3,
     "metadata": {},
     "output_type": "execute_result"
    }
   ],
   "source": [
    "cleaned_data = cleaned_data.iloc[: , 1:]\n",
    "cleaned_data.head()"
   ]
  },
  {
   "cell_type": "code",
   "execution_count": 4,
   "metadata": {
    "executionInfo": {
     "elapsed": 9,
     "status": "ok",
     "timestamp": 1623927936177,
     "user": {
      "displayName": "Westin Swager",
      "photoUrl": "https://lh3.googleusercontent.com/a-/AOh14Ggc5FX85sLh-aVg8DzZeM6Y_apKolVWrP93ClFkIw=s64",
      "userId": "13397752590549051546"
     },
     "user_tz": 300
    },
    "id": "0BSywUdkWw9f"
   },
   "outputs": [],
   "source": [
    "# Import X_train, X_test, y_train, and y_test from expected_goals_data_cleaning_notebook and\n",
    "# expected_goals_modeling_notebook\n",
    "\n",
    "X_train_os = pd.read_csv('./final_statsbomb_data/data_modeling/X_train_os.csv')\n",
    "y_train_os = pd.read_csv('./final_statsbomb_data/data_modeling/y_train_os.csv')\n",
    "\n",
    "X_test = pd.read_csv('./final_statsbomb_data/data_preprocessing/X_test.csv')\n",
    "y_test = pd.read_csv('./final_statsbomb_data/data_preprocessing/y_test.csv')\n",
    "\n",
    "X = pd.read_csv('./final_statsbomb_data/data_preprocessing/X.csv')\n",
    "y = pd.read_csv('./final_statsbomb_data/data_preprocessing/y.csv')"
   ]
  },
  {
   "cell_type": "code",
   "execution_count": 5,
   "metadata": {
    "executionInfo": {
     "elapsed": 285,
     "status": "ok",
     "timestamp": 1623927937972,
     "user": {
      "displayName": "Westin Swager",
      "photoUrl": "https://lh3.googleusercontent.com/a-/AOh14Ggc5FX85sLh-aVg8DzZeM6Y_apKolVWrP93ClFkIw=s64",
      "userId": "13397752590549051546"
     },
     "user_tz": 300
    },
    "id": "b5Ru2VjoKYCt"
   },
   "outputs": [],
   "source": [
    "X_train_os = X_train_os.iloc[: , 1:]\n",
    "y_train_os = y_train_os.iloc[: , 1:]\n",
    "\n",
    "X_test = X_test.iloc[: , 1:]\n",
    "y_test = y_test.iloc[: , 1:]\n",
    "\n",
    "X = X.iloc[: , 1:]\n",
    "y = y.iloc[: , 1:]"
   ]
  },
  {
   "cell_type": "code",
   "execution_count": 6,
   "metadata": {
    "executionInfo": {
     "elapsed": 8672,
     "status": "ok",
     "timestamp": 1623920142280,
     "user": {
      "displayName": "Westin Swager",
      "photoUrl": "https://lh3.googleusercontent.com/a-/AOh14Ggc5FX85sLh-aVg8DzZeM6Y_apKolVWrP93ClFkIw=s64",
      "userId": "13397752590549051546"
     },
     "user_tz": 300
    },
    "id": "kgrm6KUSCVDJ"
   },
   "outputs": [],
   "source": [
    "# Load models trained in expected_goals_modeling_notebook\n",
    "\n",
    "lr = pickle.load(open('./final_statsbomb_data/data_modeling/lr.pkl', 'rb'))\n",
    "kn = pickle.load(open('./final_statsbomb_data/data_modeling/kn.pkl', 'rb'))\n",
    "dt = pickle.load(open('./final_statsbomb_data/data_modeling/dt.pkl', 'rb'))\n",
    "bc = pickle.load(open('./final_statsbomb_data/data_modeling/bc.pkl', 'rb'))\n",
    "vc = pickle.load(open('./final_statsbomb_data/data_modeling/vc.pkl', 'rb'))"
   ]
  },
  {
   "cell_type": "code",
   "execution_count": 7,
   "metadata": {
    "executionInfo": {
     "elapsed": 278,
     "status": "ok",
     "timestamp": 1623925913488,
     "user": {
      "displayName": "Westin Swager",
      "photoUrl": "https://lh3.googleusercontent.com/a-/AOh14Ggc5FX85sLh-aVg8DzZeM6Y_apKolVWrP93ClFkIw=s64",
      "userId": "13397752590549051546"
     },
     "user_tz": 300
    },
    "id": "V_eTZm-kM-wl"
   },
   "outputs": [],
   "source": [
    "# Generate model report\n",
    "\n",
    "def model_report(train,\n",
    "                 train_prediction):\n",
    "  report = pd.DataFrame(classification_report(train,\n",
    "                                              train_prediction,\n",
    "                                              output_dict = True))\n",
    "  display(report)"
   ]
  },
  {
   "cell_type": "code",
   "execution_count": 8,
   "metadata": {
    "executionInfo": {
     "elapsed": 274,
     "status": "ok",
     "timestamp": 1623925909442,
     "user": {
      "displayName": "Westin Swager",
      "photoUrl": "https://lh3.googleusercontent.com/a-/AOh14Ggc5FX85sLh-aVg8DzZeM6Y_apKolVWrP93ClFkIw=s64",
      "userId": "13397752590549051546"
     },
     "user_tz": 300
    },
    "id": "klBDh_ifNAON"
   },
   "outputs": [],
   "source": [
    " # Calculate model ROC AUC, Visualize ROC Curve\n",
    "\n",
    "def model_roc(train,\n",
    "              train_probability):\n",
    "  print('Area Under the Curve:',\n",
    "        round(roc_auc_score(train,\n",
    "                            train_probability[:,1]),2))\n",
    "  \n",
    "  fpr_train, tpr_train, thresholds_train = roc_curve(train, \n",
    "                                                     train_probability[:,1])\n",
    "    \n",
    "  f, ax = plt.subplots(figsize = (10, 10))\n",
    "  \n",
    "  plt.plot(fpr_train,\n",
    "           tpr_train,\n",
    "           'aqua',\n",
    "           label = 'Train')\n",
    "  \n",
    "  plt.plot([0, 1],\n",
    "           [0, 1],\n",
    "           'purple')\n",
    "  \n",
    "  ax.set_title('Receiver Operating Characteristic')\n",
    "  ax.set_xlabel('False Positive Rate')\n",
    "  ax.set_ylabel('True Positive Rate')\n",
    "  ax.legend(bbox_to_anchor = (1.05, 1),\n",
    "            loc = 2,\n",
    "            borderaxespad = 0);"
   ]
  },
  {
   "cell_type": "code",
   "execution_count": 9,
   "metadata": {
    "executionInfo": {
     "elapsed": 414,
     "status": "ok",
     "timestamp": 1623932284220,
     "user": {
      "displayName": "Westin Swager",
      "photoUrl": "https://lh3.googleusercontent.com/a-/AOh14Ggc5FX85sLh-aVg8DzZeM6Y_apKolVWrP93ClFkIw=s64",
      "userId": "13397752590549051546"
     },
     "user_tz": 300
    },
    "id": "sbBg7bVU5_by"
   },
   "outputs": [],
   "source": [
    "# Visualize distribution of continuous variable feature shots and goals\n",
    "\n",
    "def int_feature_v_goal(feature,\n",
    "                       xlabel):\n",
    "    f, ax = plt.subplots(figsize=(10, 10))\n",
    "    sns.set_palette(sns.color_palette(['plum', 'purple']))\n",
    "    sns.histplot(data = cleaned_data,\n",
    "                 ax = ax,\n",
    "                 multiple = 'stack',\n",
    "                 x = feature,\n",
    "                 hue = 'goal',\n",
    "                 element = 'bars')\n",
    "    ax.set_title('Goals v Shots by ' + xlabel)\n",
    "    ax.set_xlabel(xlabel)\n",
    "    ax.legend(labels = ['Goal',\n",
    "                        'Miss'],\n",
    "              bbox_to_anchor = (1.05, 1),\n",
    "              loc = 2,\n",
    "              borderaxespad = 0);"
   ]
  },
  {
   "cell_type": "code",
   "execution_count": 10,
   "metadata": {
    "executionInfo": {
     "elapsed": 284,
     "status": "ok",
     "timestamp": 1623932293388,
     "user": {
      "displayName": "Westin Swager",
      "photoUrl": "https://lh3.googleusercontent.com/a-/AOh14Ggc5FX85sLh-aVg8DzZeM6Y_apKolVWrP93ClFkIw=s64",
      "userId": "13397752590549051546"
     },
     "user_tz": 300
    },
    "id": "GzvH_hje6DXZ"
   },
   "outputs": [],
   "source": [
    "# Visualize distribution of categorical variable feature shots and goals\n",
    "\n",
    "def category_feature_v_goal(feature,\n",
    "                            xlabel):\n",
    "    f, ax = plt.subplots(figsize=(10, 10))\n",
    "    sns.set_palette(sns.color_palette(['plum', 'purple']))\n",
    "    sns.histplot(data = cleaned_data,\n",
    "                 ax = ax,\n",
    "                 multiple = 'stack',\n",
    "                 x = feature,\n",
    "                 hue = 'goal',\n",
    "                 element = 'bars')\n",
    "    ax.set_title('Goals v Shots by ' + xlabel)\n",
    "    ax.set_xlabel(xlabel)\n",
    "    ax.legend(labels = ['Goal',\n",
    "                        'Miss'],\n",
    "              bbox_to_anchor = (1.05, 1),\n",
    "              loc = 2,\n",
    "              borderaxespad = 0);"
   ]
  },
  {
   "cell_type": "code",
   "execution_count": 11,
   "metadata": {
    "executionInfo": {
     "elapsed": 308,
     "status": "ok",
     "timestamp": 1623932304927,
     "user": {
      "displayName": "Westin Swager",
      "photoUrl": "https://lh3.googleusercontent.com/a-/AOh14Ggc5FX85sLh-aVg8DzZeM6Y_apKolVWrP93ClFkIw=s64",
      "userId": "13397752590549051546"
     },
     "user_tz": 300
    },
    "id": "lsRyrAY_6FwV"
   },
   "outputs": [],
   "source": [
    "# Visualize distribution of boolean variable feature shots and goals\n",
    "\n",
    "def boolean_feature_v_goal(feature,\n",
    "                            xlabel):\n",
    "    f, ax = plt.subplots(figsize=(10, 10))\n",
    "    sns.set_palette(sns.color_palette(['plum', 'purple']))\n",
    "    sns.histplot(data = cleaned_data,\n",
    "                 ax = ax,\n",
    "                 multiple = 'stack',\n",
    "                 x = feature,\n",
    "                 hue = 'goal',\n",
    "                 element = 'bars')\n",
    "    ax.set_title('Goals v Shots by ' + xlabel)\n",
    "    ax.set_xlabel(xlabel)\n",
    "    ax.set_xticks([0, 1])\n",
    "    ax.set_xticklabels(['False', 'True'])\n",
    "    ax.legend(labels = ['Goal', 'Miss'],\n",
    "             bbox_to_anchor = (1.05, 1), loc = 2, borderaxespad = 0);"
   ]
  },
  {
   "cell_type": "markdown",
   "metadata": {
    "id": "662ApwkzYN26"
   },
   "source": [
    "# Best Performing Models"
   ]
  },
  {
   "cell_type": "markdown",
   "metadata": {
    "id": "8nWPXlxiNimu"
   },
   "source": [
    "## K Neighbors"
   ]
  },
  {
   "cell_type": "code",
   "execution_count": 12,
   "metadata": {
    "executionInfo": {
     "elapsed": 12043,
     "status": "ok",
     "timestamp": 1623925757303,
     "user": {
      "displayName": "Westin Swager",
      "photoUrl": "https://lh3.googleusercontent.com/a-/AOh14Ggc5FX85sLh-aVg8DzZeM6Y_apKolVWrP93ClFkIw=s64",
      "userId": "13397752590549051546"
     },
     "user_tz": 300
    },
    "id": "S8_svcphhBe-"
   },
   "outputs": [],
   "source": [
    "kn_predict = kn.predict(X)\n",
    "kn_probability = kn.predict_proba(X)"
   ]
  },
  {
   "cell_type": "code",
   "execution_count": 13,
   "metadata": {
    "colab": {
     "base_uri": "https://localhost:8080/",
     "height": 194
    },
    "executionInfo": {
     "elapsed": 281,
     "status": "ok",
     "timestamp": 1623925917665,
     "user": {
      "displayName": "Westin Swager",
      "photoUrl": "https://lh3.googleusercontent.com/a-/AOh14Ggc5FX85sLh-aVg8DzZeM6Y_apKolVWrP93ClFkIw=s64",
      "userId": "13397752590549051546"
     },
     "user_tz": 300
    },
    "id": "STwxQuiqhKUo",
    "outputId": "535aa2e7-d8b0-4220-cb5b-ed8ce4690f7c"
   },
   "outputs": [
    {
     "name": "stdout",
     "output_type": "stream",
     "text": [
      "Report\n"
     ]
    },
    {
     "data": {
      "text/html": [
       "<div>\n",
       "<style scoped>\n",
       "    .dataframe tbody tr th:only-of-type {\n",
       "        vertical-align: middle;\n",
       "    }\n",
       "\n",
       "    .dataframe tbody tr th {\n",
       "        vertical-align: top;\n",
       "    }\n",
       "\n",
       "    .dataframe thead th {\n",
       "        text-align: right;\n",
       "    }\n",
       "</style>\n",
       "<table border=\"1\" class=\"dataframe\">\n",
       "  <thead>\n",
       "    <tr style=\"text-align: right;\">\n",
       "      <th></th>\n",
       "      <th>False</th>\n",
       "      <th>True</th>\n",
       "      <th>accuracy</th>\n",
       "      <th>macro avg</th>\n",
       "      <th>weighted avg</th>\n",
       "    </tr>\n",
       "  </thead>\n",
       "  <tbody>\n",
       "    <tr>\n",
       "      <th>precision</th>\n",
       "      <td>0.956522</td>\n",
       "      <td>0.222222</td>\n",
       "      <td>0.696629</td>\n",
       "      <td>0.589372</td>\n",
       "      <td>0.878141</td>\n",
       "    </tr>\n",
       "    <tr>\n",
       "      <th>recall</th>\n",
       "      <td>0.691824</td>\n",
       "      <td>0.736842</td>\n",
       "      <td>0.696629</td>\n",
       "      <td>0.714333</td>\n",
       "      <td>0.696629</td>\n",
       "    </tr>\n",
       "    <tr>\n",
       "      <th>f1-score</th>\n",
       "      <td>0.802920</td>\n",
       "      <td>0.341463</td>\n",
       "      <td>0.696629</td>\n",
       "      <td>0.572192</td>\n",
       "      <td>0.753663</td>\n",
       "    </tr>\n",
       "    <tr>\n",
       "      <th>support</th>\n",
       "      <td>159.000000</td>\n",
       "      <td>19.000000</td>\n",
       "      <td>0.696629</td>\n",
       "      <td>178.000000</td>\n",
       "      <td>178.000000</td>\n",
       "    </tr>\n",
       "  </tbody>\n",
       "</table>\n",
       "</div>"
      ],
      "text/plain": [
       "                False       True  accuracy   macro avg  weighted avg\n",
       "precision    0.956522   0.222222  0.696629    0.589372      0.878141\n",
       "recall       0.691824   0.736842  0.696629    0.714333      0.696629\n",
       "f1-score     0.802920   0.341463  0.696629    0.572192      0.753663\n",
       "support    159.000000  19.000000  0.696629  178.000000    178.000000"
      ]
     },
     "metadata": {},
     "output_type": "display_data"
    }
   ],
   "source": [
    "print('Report')\n",
    "model_report(y, kn_predict)"
   ]
  },
  {
   "cell_type": "code",
   "execution_count": 14,
   "metadata": {
    "colab": {
     "base_uri": "https://localhost:8080/",
     "height": 666
    },
    "executionInfo": {
     "elapsed": 835,
     "status": "ok",
     "timestamp": 1623925923820,
     "user": {
      "displayName": "Westin Swager",
      "photoUrl": "https://lh3.googleusercontent.com/a-/AOh14Ggc5FX85sLh-aVg8DzZeM6Y_apKolVWrP93ClFkIw=s64",
      "userId": "13397752590549051546"
     },
     "user_tz": 300
    },
    "id": "yQONWAuUODkH",
    "outputId": "7c864321-7c5f-4904-e581-a5c52067bb22",
    "scrolled": false
   },
   "outputs": [
    {
     "name": "stdout",
     "output_type": "stream",
     "text": [
      "Area Under the Curve: 0.82\n"
     ]
    },
    {
     "data": {
      "image/png": "[encoded data removed]",
      "text/plain": [
       "<Figure size 1000x1000 with 1 Axes>"
      ]
     },
     "metadata": {},
     "output_type": "display_data"
    }
   ],
   "source": [
    "model_roc(y, kn_probability)"
   ]
  },
  {
   "cell_type": "markdown",
   "metadata": {
    "id": "VX90I1QIOmCq"
   },
   "source": [
    "## Voting Classifier"
   ]
  },
  {
   "cell_type": "code",
   "execution_count": 15,
   "metadata": {
    "executionInfo": {
     "elapsed": 11957,
     "status": "ok",
     "timestamp": 1623926069905,
     "user": {
      "displayName": "Westin Swager",
      "photoUrl": "https://lh3.googleusercontent.com/a-/AOh14Ggc5FX85sLh-aVg8DzZeM6Y_apKolVWrP93ClFkIw=s64",
      "userId": "13397752590549051546"
     },
     "user_tz": 300
    },
    "id": "f_2M_ph1Madj"
   },
   "outputs": [],
   "source": [
    "vc_predict = vc.predict(X)\n",
    "vc_probability = vc.predict_proba(X)"
   ]
  },
  {
   "cell_type": "code",
   "execution_count": 16,
   "metadata": {
    "colab": {
     "base_uri": "https://localhost:8080/",
     "height": 194
    },
    "executionInfo": {
     "elapsed": 445,
     "status": "ok",
     "timestamp": 1623926084885,
     "user": {
      "displayName": "Westin Swager",
      "photoUrl": "https://lh3.googleusercontent.com/a-/AOh14Ggc5FX85sLh-aVg8DzZeM6Y_apKolVWrP93ClFkIw=s64",
      "userId": "13397752590549051546"
     },
     "user_tz": 300
    },
    "id": "7Kw0dvx_OuCj",
    "outputId": "82b70d73-a995-4300-f77e-ca8e78781a2f"
   },
   "outputs": [
    {
     "name": "stdout",
     "output_type": "stream",
     "text": [
      "Report\n"
     ]
    },
    {
     "data": {
      "text/html": [
       "<div>\n",
       "<style scoped>\n",
       "    .dataframe tbody tr th:only-of-type {\n",
       "        vertical-align: middle;\n",
       "    }\n",
       "\n",
       "    .dataframe tbody tr th {\n",
       "        vertical-align: top;\n",
       "    }\n",
       "\n",
       "    .dataframe thead th {\n",
       "        text-align: right;\n",
       "    }\n",
       "</style>\n",
       "<table border=\"1\" class=\"dataframe\">\n",
       "  <thead>\n",
       "    <tr style=\"text-align: right;\">\n",
       "      <th></th>\n",
       "      <th>False</th>\n",
       "      <th>True</th>\n",
       "      <th>accuracy</th>\n",
       "      <th>macro avg</th>\n",
       "      <th>weighted avg</th>\n",
       "    </tr>\n",
       "  </thead>\n",
       "  <tbody>\n",
       "    <tr>\n",
       "      <th>precision</th>\n",
       "      <td>0.959677</td>\n",
       "      <td>0.259259</td>\n",
       "      <td>0.747191</td>\n",
       "      <td>0.609468</td>\n",
       "      <td>0.884914</td>\n",
       "    </tr>\n",
       "    <tr>\n",
       "      <th>recall</th>\n",
       "      <td>0.748428</td>\n",
       "      <td>0.736842</td>\n",
       "      <td>0.747191</td>\n",
       "      <td>0.742635</td>\n",
       "      <td>0.747191</td>\n",
       "    </tr>\n",
       "    <tr>\n",
       "      <th>f1-score</th>\n",
       "      <td>0.840989</td>\n",
       "      <td>0.383562</td>\n",
       "      <td>0.747191</td>\n",
       "      <td>0.612276</td>\n",
       "      <td>0.792163</td>\n",
       "    </tr>\n",
       "    <tr>\n",
       "      <th>support</th>\n",
       "      <td>159.000000</td>\n",
       "      <td>19.000000</td>\n",
       "      <td>0.747191</td>\n",
       "      <td>178.000000</td>\n",
       "      <td>178.000000</td>\n",
       "    </tr>\n",
       "  </tbody>\n",
       "</table>\n",
       "</div>"
      ],
      "text/plain": [
       "                False       True  accuracy   macro avg  weighted avg\n",
       "precision    0.959677   0.259259  0.747191    0.609468      0.884914\n",
       "recall       0.748428   0.736842  0.747191    0.742635      0.747191\n",
       "f1-score     0.840989   0.383562  0.747191    0.612276      0.792163\n",
       "support    159.000000  19.000000  0.747191  178.000000    178.000000"
      ]
     },
     "metadata": {},
     "output_type": "display_data"
    }
   ],
   "source": [
    "print('Report')\n",
    "model_report(y, vc_predict)"
   ]
  },
  {
   "cell_type": "code",
   "execution_count": 17,
   "metadata": {
    "colab": {
     "base_uri": "https://localhost:8080/",
     "height": 666
    },
    "executionInfo": {
     "elapsed": 748,
     "status": "ok",
     "timestamp": 1623926104784,
     "user": {
      "displayName": "Westin Swager",
      "photoUrl": "https://lh3.googleusercontent.com/a-/AOh14Ggc5FX85sLh-aVg8DzZeM6Y_apKolVWrP93ClFkIw=s64",
      "userId": "13397752590549051546"
     },
     "user_tz": 300
    },
    "id": "bMlvRa1sOzu9",
    "outputId": "8d827eac-f11a-45ef-c18a-cbb1c7a8e306",
    "scrolled": false
   },
   "outputs": [
    {
     "name": "stdout",
     "output_type": "stream",
     "text": [
      "Area Under the Curve: 0.84\n"
     ]
    },
    {
     "data": {
      "image/png": "[encoded data removed]",
      "text/plain": [
       "<Figure size 1000x1000 with 1 Axes>"
      ]
     },
     "metadata": {},
     "output_type": "display_data"
    }
   ],
   "source": [
    "model_roc(y, vc_probability)"
   ]
  },
  {
   "cell_type": "markdown",
   "metadata": {},
   "source": [
    "## Logistic Regression"
   ]
  },
  {
   "cell_type": "code",
   "execution_count": 18,
   "metadata": {},
   "outputs": [],
   "source": [
    "lr_predict = lr.predict(X)\n",
    "lr_probability = lr.predict_proba(X)"
   ]
  },
  {
   "cell_type": "code",
   "execution_count": 19,
   "metadata": {},
   "outputs": [
    {
     "name": "stdout",
     "output_type": "stream",
     "text": [
      "Report\n"
     ]
    },
    {
     "data": {
      "text/html": [
       "<div>\n",
       "<style scoped>\n",
       "    .dataframe tbody tr th:only-of-type {\n",
       "        vertical-align: middle;\n",
       "    }\n",
       "\n",
       "    .dataframe tbody tr th {\n",
       "        vertical-align: top;\n",
       "    }\n",
       "\n",
       "    .dataframe thead th {\n",
       "        text-align: right;\n",
       "    }\n",
       "</style>\n",
       "<table border=\"1\" class=\"dataframe\">\n",
       "  <thead>\n",
       "    <tr style=\"text-align: right;\">\n",
       "      <th></th>\n",
       "      <th>False</th>\n",
       "      <th>True</th>\n",
       "      <th>accuracy</th>\n",
       "      <th>macro avg</th>\n",
       "      <th>weighted avg</th>\n",
       "    </tr>\n",
       "  </thead>\n",
       "  <tbody>\n",
       "    <tr>\n",
       "      <th>precision</th>\n",
       "      <td>0.961240</td>\n",
       "      <td>0.285714</td>\n",
       "      <td>0.775281</td>\n",
       "      <td>0.623477</td>\n",
       "      <td>0.889134</td>\n",
       "    </tr>\n",
       "    <tr>\n",
       "      <th>recall</th>\n",
       "      <td>0.779874</td>\n",
       "      <td>0.736842</td>\n",
       "      <td>0.775281</td>\n",
       "      <td>0.758358</td>\n",
       "      <td>0.775281</td>\n",
       "    </tr>\n",
       "    <tr>\n",
       "      <th>f1-score</th>\n",
       "      <td>0.861111</td>\n",
       "      <td>0.411765</td>\n",
       "      <td>0.775281</td>\n",
       "      <td>0.636438</td>\n",
       "      <td>0.813147</td>\n",
       "    </tr>\n",
       "    <tr>\n",
       "      <th>support</th>\n",
       "      <td>159.000000</td>\n",
       "      <td>19.000000</td>\n",
       "      <td>0.775281</td>\n",
       "      <td>178.000000</td>\n",
       "      <td>178.000000</td>\n",
       "    </tr>\n",
       "  </tbody>\n",
       "</table>\n",
       "</div>"
      ],
      "text/plain": [
       "                False       True  accuracy   macro avg  weighted avg\n",
       "precision    0.961240   0.285714  0.775281    0.623477      0.889134\n",
       "recall       0.779874   0.736842  0.775281    0.758358      0.775281\n",
       "f1-score     0.861111   0.411765  0.775281    0.636438      0.813147\n",
       "support    159.000000  19.000000  0.775281  178.000000    178.000000"
      ]
     },
     "metadata": {},
     "output_type": "display_data"
    }
   ],
   "source": [
    "print('Report')\n",
    "model_report(y, lr_predict)"
   ]
  },
  {
   "cell_type": "code",
   "execution_count": 20,
   "metadata": {},
   "outputs": [
    {
     "name": "stdout",
     "output_type": "stream",
     "text": [
      "Area Under the Curve: 0.83\n"
     ]
    },
    {
     "data": {
      "image/png": "[encoded data removed]",
      "text/plain": [
       "<Figure size 1000x1000 with 1 Axes>"
      ]
     },
     "metadata": {},
     "output_type": "display_data"
    }
   ],
   "source": [
    "model_roc(y, lr_probability)"
   ]
  },
  {
   "cell_type": "markdown",
   "metadata": {
    "id": "_VZ3NSfsO42L"
   },
   "source": [
    "# Model Comparison"
   ]
  },
  {
   "cell_type": "code",
   "execution_count": 21,
   "metadata": {
    "colab": {
     "base_uri": "https://localhost:8080/",
     "height": 144
    },
    "executionInfo": {
     "elapsed": 281,
     "status": "ok",
     "timestamp": 1623926153790,
     "user": {
      "displayName": "Westin Swager",
      "photoUrl": "https://lh3.googleusercontent.com/a-/AOh14Ggc5FX85sLh-aVg8DzZeM6Y_apKolVWrP93ClFkIw=s64",
      "userId": "13397752590549051546"
     },
     "user_tz": 300
    },
    "id": "jyPvOLjbM3Pl",
    "outputId": "fe1010c6-464b-4f34-aea4-778a02252b77"
   },
   "outputs": [
    {
     "data": {
      "text/html": [
       "<div>\n",
       "<style scoped>\n",
       "    .dataframe tbody tr th:only-of-type {\n",
       "        vertical-align: middle;\n",
       "    }\n",
       "\n",
       "    .dataframe tbody tr th {\n",
       "        vertical-align: top;\n",
       "    }\n",
       "\n",
       "    .dataframe thead th {\n",
       "        text-align: right;\n",
       "    }\n",
       "</style>\n",
       "<table border=\"1\" class=\"dataframe\">\n",
       "  <thead>\n",
       "    <tr style=\"text-align: right;\">\n",
       "      <th></th>\n",
       "      <th>Model</th>\n",
       "      <th>Recall</th>\n",
       "      <th>ROC</th>\n",
       "      <th>Accuracy</th>\n",
       "    </tr>\n",
       "  </thead>\n",
       "  <tbody>\n",
       "    <tr>\n",
       "      <th>0</th>\n",
       "      <td>K Neighbors</td>\n",
       "      <td>0.74</td>\n",
       "      <td>0.82</td>\n",
       "      <td>0.70</td>\n",
       "    </tr>\n",
       "    <tr>\n",
       "      <th>1</th>\n",
       "      <td>Logistic Regression</td>\n",
       "      <td>0.74</td>\n",
       "      <td>0.83</td>\n",
       "      <td>0.78</td>\n",
       "    </tr>\n",
       "    <tr>\n",
       "      <th>2</th>\n",
       "      <td>Voting Classifier</td>\n",
       "      <td>0.74</td>\n",
       "      <td>0.84</td>\n",
       "      <td>0.75</td>\n",
       "    </tr>\n",
       "  </tbody>\n",
       "</table>\n",
       "</div>"
      ],
      "text/plain": [
       "                 Model  Recall   ROC  Accuracy\n",
       "0          K Neighbors    0.74  0.82      0.70\n",
       "1  Logistic Regression    0.74  0.83      0.78\n",
       "2    Voting Classifier    0.74  0.84      0.75"
      ]
     },
     "execution_count": 21,
     "metadata": {},
     "output_type": "execute_result"
    }
   ],
   "source": [
    "model_names = ['K Neighbors','Logistic Regression', 'Voting Classifier']\n",
    "\n",
    "model_comparison = pd.DataFrame(model_names, columns = ['Model'])\n",
    "\n",
    "probabilities = [kn_probability, lr_probability, vc_probability]\n",
    "\n",
    "predictions = [kn_predict, lr_predict, vc_predict]\n",
    "\n",
    "recall_scores = []\n",
    "for p in predictions:\n",
    "    recall_scores.append(round((recall_score(y, p)), 2))\n",
    "\n",
    "model_comparison['Recall'] = recall_scores\n",
    "\n",
    "roc_scores = []\n",
    "for p in probabilities:\n",
    "    roc_scores.append(round((roc_auc_score(y, p[:,1])), 2))\n",
    "\n",
    "model_comparison['ROC'] = roc_scores\n",
    "\n",
    "accuracy_scores = []\n",
    "for p in predictions:\n",
    "    accuracy_scores.append(round((accuracy_score(y, p)), 2))\n",
    "\n",
    "model_comparison['Accuracy'] = accuracy_scores\n",
    "\n",
    "model_comparison.sort_values('Recall',\n",
    "                             ascending = False,\n",
    "                             inplace = True)\n",
    "\n",
    "model_comparison"
   ]
  },
  {
   "cell_type": "markdown",
   "metadata": {
    "id": "K7UqozLRW9j8"
   },
   "source": [
    "**Voting Classifier** will be the selected model"
   ]
  },
  {
   "cell_type": "markdown",
   "metadata": {
    "id": "MktMom_eqYYG"
   },
   "source": [
    "# Applying xG to Broader Data"
   ]
  },
  {
   "cell_type": "code",
   "execution_count": 22,
   "metadata": {
    "executionInfo": {
     "elapsed": 338,
     "status": "ok",
     "timestamp": 1623928169198,
     "user": {
      "displayName": "Westin Swager",
      "photoUrl": "https://lh3.googleusercontent.com/a-/AOh14Ggc5FX85sLh-aVg8DzZeM6Y_apKolVWrP93ClFkIw=s64",
      "userId": "13397752590549051546"
     },
     "user_tz": 300
    },
    "id": "E2aD2aRccsn3"
   },
   "outputs": [],
   "source": [
    "# Create DataFrame of intial Extracted, Organized, and Cleaned Data with xG\n",
    "\n",
    "final_data = cleaned_data\n",
    "final_data['xG'] = vc_probability[:,1]\n",
    "final_data.drop('statsbomb_xg',\n",
    "                axis = 1,\n",
    "                inplace = True)"
   ]
  },
  {
   "cell_type": "code",
   "execution_count": 23,
   "metadata": {
    "colab": {
     "base_uri": "https://localhost:8080/"
    },
    "executionInfo": {
     "elapsed": 281,
     "status": "ok",
     "timestamp": 1623928078425,
     "user": {
      "displayName": "Westin Swager",
      "photoUrl": "https://lh3.googleusercontent.com/a-/AOh14Ggc5FX85sLh-aVg8DzZeM6Y_apKolVWrP93ClFkIw=s64",
      "userId": "13397752590549051546"
     },
     "user_tz": 300
    },
    "id": "g1w-AnCodU6c",
    "outputId": "b7ac123c-4783-4e6e-f808-2dd096c898fc"
   },
   "outputs": [
    {
     "data": {
      "text/plain": [
       "count    178.000000\n",
       "mean       0.381085\n",
       "std        0.245176\n",
       "min        0.000374\n",
       "25%        0.176134\n",
       "50%        0.340501\n",
       "75%        0.565982\n",
       "max        0.944993\n",
       "Name: xG, dtype: float64"
      ]
     },
     "execution_count": 23,
     "metadata": {},
     "output_type": "execute_result"
    }
   ],
   "source": [
    "final_data['xG'].describe()"
   ]
  },
  {
   "cell_type": "markdown",
   "metadata": {
    "id": "qo7iboqr7zsq"
   },
   "source": [
    "# Goals Baseline"
   ]
  },
  {
   "cell_type": "code",
   "execution_count": 24,
   "metadata": {
    "colab": {
     "base_uri": "https://localhost:8080/"
    },
    "executionInfo": {
     "elapsed": 263,
     "status": "ok",
     "timestamp": 1623932773645,
     "user": {
      "displayName": "Westin Swager",
      "photoUrl": "https://lh3.googleusercontent.com/a-/AOh14Ggc5FX85sLh-aVg8DzZeM6Y_apKolVWrP93ClFkIw=s64",
      "userId": "13397752590549051546"
     },
     "user_tz": 300
    },
    "id": "yeD9aYOG73eG",
    "outputId": "b34263d5-2750-49ea-ea19-699a94b08e3f"
   },
   "outputs": [
    {
     "name": "stdout",
     "output_type": "stream",
     "text": [
      "Ratio of Goals: 10.67 %\n"
     ]
    }
   ],
   "source": [
    "print('Ratio of Goals:',\n",
    "      round(((len(cleaned_data[cleaned_data['goal'] == True]) /\n",
    "      len(cleaned_data)) * 100), 2), '%')"
   ]
  },
  {
   "cell_type": "code",
   "execution_count": 25,
   "metadata": {
    "colab": {
     "base_uri": "https://localhost:8080/",
     "height": 375
    },
    "executionInfo": {
     "elapsed": 333,
     "status": "ok",
     "timestamp": 1623932783999,
     "user": {
      "displayName": "Westin Swager",
      "photoUrl": "https://lh3.googleusercontent.com/a-/AOh14Ggc5FX85sLh-aVg8DzZeM6Y_apKolVWrP93ClFkIw=s64",
      "userId": "13397752590549051546"
     },
     "user_tz": 300
    },
    "id": "T9ECwy_z77DX",
    "outputId": "e2dfc31c-ff85-42b8-831b-73ea54dc8707"
   },
   "outputs": [
    {
     "data": {
      "image/png": "[encoded data removed]",
      "text/plain": [
       "<Figure size 500x500 with 1 Axes>"
      ]
     },
     "metadata": {},
     "output_type": "display_data"
    }
   ],
   "source": [
    "# Visualize ratio of goals\n",
    "\n",
    "f, ax = plt.subplots(figsize=(5, 5))\n",
    "sns.histplot(data = cleaned_data,\n",
    "             ax = ax,\n",
    "             stat = 'count',\n",
    "             multiple = 'stack',\n",
    "             x = 'goal',\n",
    "             kde = False,\n",
    "             color = 'purple',\n",
    "             element = 'bars',\n",
    "             legend = False)\n",
    "ax.set_title('Goals')\n",
    "ax.set_xlabel('Goals')\n",
    "ax.set_xticks([0, 1])\n",
    "ax.set_xticklabels(['Miss', 'Goal']);"
   ]
  },
  {
   "cell_type": "markdown",
   "metadata": {
    "id": "qZUPoBTO5pwF"
   },
   "source": [
    "## Shot Distance"
   ]
  },
  {
   "cell_type": "markdown",
   "metadata": {
    "id": "tNAhXm-n6VIx"
   },
   "source": [
    "As expected, shot_distance has the highest impact toward the likelihood of a goal."
   ]
  },
  {
   "cell_type": "code",
   "execution_count": 30,
   "metadata": {
    "colab": {
     "base_uri": "https://localhost:8080/"
    },
    "executionInfo": {
     "elapsed": 567,
     "status": "ok",
     "timestamp": 1623932251934,
     "user": {
      "displayName": "Westin Swager",
      "photoUrl": "https://lh3.googleusercontent.com/a-/AOh14Ggc5FX85sLh-aVg8DzZeM6Y_apKolVWrP93ClFkIw=s64",
      "userId": "13397752590549051546"
     },
     "user_tz": 300
    },
    "id": "OI7pLRAT5tKP",
    "outputId": "88677a76-4cfd-43f5-ecb7-8b3c4dbf6839"
   },
   "outputs": [
    {
     "data": {
      "text/plain": [
       "count    178.000000\n",
       "mean      17.299322\n",
       "std        8.630480\n",
       "min        3.101612\n",
       "25%       10.126433\n",
       "50%       16.328760\n",
       "75%       23.794325\n",
       "max       51.200098\n",
       "Name: shot_distance, dtype: float64"
      ]
     },
     "execution_count": 30,
     "metadata": {},
     "output_type": "execute_result"
    }
   ],
   "source": [
    "cleaned_data['shot_distance'].describe()"
   ]
  },
  {
   "cell_type": "code",
   "execution_count": 31,
   "metadata": {
    "colab": {
     "base_uri": "https://localhost:8080/",
     "height": 269
    },
    "executionInfo": {
     "elapsed": 287,
     "status": "ok",
     "timestamp": 1623932262477,
     "user": {
      "displayName": "Westin Swager",
      "photoUrl": "https://lh3.googleusercontent.com/a-/AOh14Ggc5FX85sLh-aVg8DzZeM6Y_apKolVWrP93ClFkIw=s64",
      "userId": "13397752590549051546"
     },
     "user_tz": 300
    },
    "id": "KRdvEAow57lH",
    "outputId": "06922406-790e-4087-9aeb-1b50ed28efaf"
   },
   "outputs": [
    {
     "data": {
      "text/html": [
       "<div>\n",
       "<style scoped>\n",
       "    .dataframe tbody tr th:only-of-type {\n",
       "        vertical-align: middle;\n",
       "    }\n",
       "\n",
       "    .dataframe tbody tr th {\n",
       "        vertical-align: top;\n",
       "    }\n",
       "\n",
       "    .dataframe thead th {\n",
       "        text-align: right;\n",
       "    }\n",
       "</style>\n",
       "<table border=\"1\" class=\"dataframe\">\n",
       "  <thead>\n",
       "    <tr style=\"text-align: right;\">\n",
       "      <th></th>\n",
       "      <th>Distance</th>\n",
       "      <th>Ratio of Total Shots</th>\n",
       "      <th>Ratio of Total Goals</th>\n",
       "      <th>Ratio of Goals within Interval</th>\n",
       "    </tr>\n",
       "  </thead>\n",
       "  <tbody>\n",
       "    <tr>\n",
       "      <th>0</th>\n",
       "      <td>&lt;10</td>\n",
       "      <td>24.16</td>\n",
       "      <td>57.89</td>\n",
       "      <td>25.58</td>\n",
       "    </tr>\n",
       "    <tr>\n",
       "      <th>1</th>\n",
       "      <td>10-20</td>\n",
       "      <td>41.01</td>\n",
       "      <td>31.58</td>\n",
       "      <td>8.22</td>\n",
       "    </tr>\n",
       "    <tr>\n",
       "      <th>2</th>\n",
       "      <td>20-30</td>\n",
       "      <td>25.84</td>\n",
       "      <td>10.53</td>\n",
       "      <td>4.35</td>\n",
       "    </tr>\n",
       "    <tr>\n",
       "      <th>3</th>\n",
       "      <td>30-40</td>\n",
       "      <td>7.87</td>\n",
       "      <td>0.00</td>\n",
       "      <td>0.00</td>\n",
       "    </tr>\n",
       "    <tr>\n",
       "      <th>4</th>\n",
       "      <td>40-50</td>\n",
       "      <td>0.56</td>\n",
       "      <td>0.00</td>\n",
       "      <td>0.00</td>\n",
       "    </tr>\n",
       "    <tr>\n",
       "      <th>5</th>\n",
       "      <td>50-60</td>\n",
       "      <td>0.56</td>\n",
       "      <td>0.00</td>\n",
       "      <td>0.00</td>\n",
       "    </tr>\n",
       "    <tr>\n",
       "      <th>6</th>\n",
       "      <td>&gt;60</td>\n",
       "      <td>0.00</td>\n",
       "      <td>0.00</td>\n",
       "      <td>0.00</td>\n",
       "    </tr>\n",
       "  </tbody>\n",
       "</table>\n",
       "</div>"
      ],
      "text/plain": [
       "  Distance  Ratio of Total Shots  Ratio of Total Goals  \\\n",
       "0      <10                 24.16                 57.89   \n",
       "1    10-20                 41.01                 31.58   \n",
       "2    20-30                 25.84                 10.53   \n",
       "3    30-40                  7.87                  0.00   \n",
       "4    40-50                  0.56                  0.00   \n",
       "5    50-60                  0.56                  0.00   \n",
       "6      >60                  0.00                  0.00   \n",
       "\n",
       "   Ratio of Goals within Interval  \n",
       "0                           25.58  \n",
       "1                            8.22  \n",
       "2                            4.35  \n",
       "3                            0.00  \n",
       "4                            0.00  \n",
       "5                            0.00  \n",
       "6                            0.00  "
      ]
     },
     "execution_count": 31,
     "metadata": {},
     "output_type": "execute_result"
    }
   ],
   "source": [
    "# Create a dataframe of shot distance intervals\n",
    "\n",
    "shot_distance_intervals = ['<10', '10-20', '20-30', '30-40',\n",
    "                           '40-50', '50-60', '>60']\n",
    "distance_ratios = pd.DataFrame(shot_distance_intervals)\n",
    "\n",
    "# Calculate ratio of shots and goals in 10-yard intervals from goal_center\n",
    "shot_distance_ratios = []\n",
    "goal_distance_ratios = []\n",
    "goal_shot_distance_ratios = []\n",
    "for i in range(0, 70, 10):\n",
    "    shot_distance_count = len(cleaned_data[(cleaned_data['shot_distance'] > i) &\n",
    "                                           (cleaned_data['shot_distance'] < (i + 10))])\n",
    "    goal_distance_count = len(cleaned_data[(cleaned_data['shot_distance'] > i) &\n",
    "                                           (cleaned_data['shot_distance'] < (i + 10)) &\n",
    "                                           (cleaned_data['goal'] == True)])\n",
    "\n",
    "    shot_distance_ratios.append(round((shot_distance_count / len(cleaned_data)) * 100, 2))\n",
    "    goal_distance_ratios.append(round((goal_distance_count / len(cleaned_data[cleaned_data['goal'] == True])) * 100, 2))\n",
    "\n",
    "    if shot_distance_count > 0:\n",
    "        goal_shot_distance_ratios.append(round((goal_distance_count / shot_distance_count) * 100, 2))\n",
    "    else:\n",
    "        goal_shot_distance_ratios.append(0)\n",
    "\n",
    "distance_ratios['Ratio of Total Shots'] = shot_distance_ratios\n",
    "distance_ratios['Ratio of Total Goals'] = goal_distance_ratios\n",
    "distance_ratios['Ratio of Goals within Interval'] = goal_shot_distance_ratios\n",
    "\n",
    "distance_ratios.rename(columns={distance_ratios.columns[0]: 'Distance'},\n",
    "                       inplace=True)\n",
    "\n",
    "distance_ratios\n"
   ]
  },
  {
   "cell_type": "code",
   "execution_count": 32,
   "metadata": {
    "colab": {
     "base_uri": "https://localhost:8080/"
    },
    "executionInfo": {
     "elapsed": 286,
     "status": "ok",
     "timestamp": 1623932334211,
     "user": {
      "displayName": "Westin Swager",
      "photoUrl": "https://lh3.googleusercontent.com/a-/AOh14Ggc5FX85sLh-aVg8DzZeM6Y_apKolVWrP93ClFkIw=s64",
      "userId": "13397752590549051546"
     },
     "user_tz": 300
    },
    "id": "IwPzn5R46J12",
    "outputId": "be7799bf-316d-4881-edfe-d99528e8875b"
   },
   "outputs": [
    {
     "name": "stdout",
     "output_type": "stream",
     "text": [
      "Ratio of Shots Within 30-Yards: 91.01 %\n",
      "Ratio of Goals Within 20-Yards: 89.47 %\n"
     ]
    }
   ],
   "source": [
    "print('Ratio of Shots Within 30-Yards:',\n",
    "      (round((len(cleaned_data[(cleaned_data['shot_distance'] < 30)]) /\n",
    "              (len(cleaned_data)) * 100), 2)), '%')\n",
    "print('Ratio of Goals Within 20-Yards:',\n",
    "      (round((len(cleaned_data[(cleaned_data['shot_distance'] < 20) &\n",
    "                               cleaned_data['goal'] == True]) /\n",
    "              (len(cleaned_data[cleaned_data['goal'] == True])) * 100), 2)), '%')"
   ]
  },
  {
   "cell_type": "code",
   "execution_count": 34,
   "metadata": {
    "colab": {
     "base_uri": "https://localhost:8080/",
     "height": 647
    },
    "executionInfo": {
     "elapsed": 739,
     "status": "ok",
     "timestamp": 1623932347088,
     "user": {
      "displayName": "Westin Swager",
      "photoUrl": "https://lh3.googleusercontent.com/a-/AOh14Ggc5FX85sLh-aVg8DzZeM6Y_apKolVWrP93ClFkIw=s64",
      "userId": "13397752590549051546"
     },
     "user_tz": 300
    },
    "id": "y7tu0RVh6RiX",
    "outputId": "7903cf76-02cc-43e3-d091-98581566376f"
   },
   "outputs": [
    {
     "data": {
      "image/png": "[encoded data removed]",
      "text/plain": [
       "<Figure size 1000x1000 with 1 Axes>"
      ]
     },
     "metadata": {},
     "output_type": "display_data"
    }
   ],
   "source": [
    "int_feature_v_goal('shot_distance','Distance')"
   ]
  },
  {
   "cell_type": "markdown",
   "metadata": {
    "id": "avjazmBC6Yyu"
   },
   "source": [
    "### NEED TO CHANGE THIS BLOCK\n",
    "\n",
    "The distribution of shots skews toward the 10-20 yard range. \n",
    "\n",
    "Similarly, the ratio of shots within the 0-20 yard range resulting in a goal is also higher and also higher than the average ratio of goals from total shots.\n",
    "\n",
    "Inside the 18 indicates similar correlation with the ratio of goals from occuring inside the 18-yard box being significantly higher than outside the 18-yard box. \n",
    "\n",
    "**Conclusion**\n",
    "\n",
    "Shots closer to goal have a higher likelihood of scoring, so these should be heavily prioritized."
   ]
  },
  {
   "cell_type": "markdown",
   "metadata": {
    "id": "BUWdvVnD8xUA"
   },
   "source": [
    "## Shot Angle"
   ]
  },
  {
   "cell_type": "markdown",
   "metadata": {
    "id": "gyJlucWO802T"
   },
   "source": [
    "shot_angle also appears to have a higher correlations with the likelihood of goal."
   ]
  },
  {
   "cell_type": "code",
   "execution_count": 37,
   "metadata": {
    "colab": {
     "base_uri": "https://localhost:8080/"
    },
    "executionInfo": {
     "elapsed": 415,
     "status": "ok",
     "timestamp": 1623933095390,
     "user": {
      "displayName": "Westin Swager",
      "photoUrl": "https://lh3.googleusercontent.com/a-/AOh14Ggc5FX85sLh-aVg8DzZeM6Y_apKolVWrP93ClFkIw=s64",
      "userId": "13397752590549051546"
     },
     "user_tz": 300
    },
    "id": "P2iJeKMa9FQQ",
    "outputId": "05e4cf27-a01c-4424-b027-33ef0aa50539"
   },
   "outputs": [
    {
     "data": {
      "text/plain": [
       "count    178.000000\n",
       "mean      92.877247\n",
       "std       35.702345\n",
       "min       11.660000\n",
       "25%       66.085000\n",
       "50%       91.395000\n",
       "75%      119.352500\n",
       "max      174.520000\n",
       "Name: shot_angle, dtype: float64"
      ]
     },
     "execution_count": 37,
     "metadata": {},
     "output_type": "execute_result"
    }
   ],
   "source": [
    "cleaned_data['shot_angle'].describe()"
   ]
  },
  {
   "cell_type": "code",
   "execution_count": 38,
   "metadata": {
    "colab": {
     "base_uri": "https://localhost:8080/",
     "height": 349
    },
    "executionInfo": {
     "elapsed": 280,
     "status": "ok",
     "timestamp": 1623933103458,
     "user": {
      "displayName": "Westin Swager",
      "photoUrl": "https://lh3.googleusercontent.com/a-/AOh14Ggc5FX85sLh-aVg8DzZeM6Y_apKolVWrP93ClFkIw=s64",
      "userId": "13397752590549051546"
     },
     "user_tz": 300
    },
    "id": "Viq31QD29JNV",
    "outputId": "681878b0-b15e-4a19-dd8e-379532a7e8cc"
   },
   "outputs": [
    {
     "data": {
      "text/html": [
       "<div>\n",
       "<style scoped>\n",
       "    .dataframe tbody tr th:only-of-type {\n",
       "        vertical-align: middle;\n",
       "    }\n",
       "\n",
       "    .dataframe tbody tr th {\n",
       "        vertical-align: top;\n",
       "    }\n",
       "\n",
       "    .dataframe thead th {\n",
       "        text-align: right;\n",
       "    }\n",
       "</style>\n",
       "<table border=\"1\" class=\"dataframe\">\n",
       "  <thead>\n",
       "    <tr style=\"text-align: right;\">\n",
       "      <th></th>\n",
       "      <th>Angle from Center</th>\n",
       "      <th>Left - Ratio Goals within Interval</th>\n",
       "      <th>Right - Ratio Goals within Interval</th>\n",
       "    </tr>\n",
       "  </thead>\n",
       "  <tbody>\n",
       "    <tr>\n",
       "      <th>0</th>\n",
       "      <td>&lt;10</td>\n",
       "      <td>15.00</td>\n",
       "      <td>13.33</td>\n",
       "    </tr>\n",
       "    <tr>\n",
       "      <th>1</th>\n",
       "      <td>10-20</td>\n",
       "      <td>7.14</td>\n",
       "      <td>7.69</td>\n",
       "    </tr>\n",
       "    <tr>\n",
       "      <th>2</th>\n",
       "      <td>20-30</td>\n",
       "      <td>27.78</td>\n",
       "      <td>5.88</td>\n",
       "    </tr>\n",
       "    <tr>\n",
       "      <th>3</th>\n",
       "      <td>30-40</td>\n",
       "      <td>0.00</td>\n",
       "      <td>8.33</td>\n",
       "    </tr>\n",
       "    <tr>\n",
       "      <th>4</th>\n",
       "      <td>40-50</td>\n",
       "      <td>6.25</td>\n",
       "      <td>12.50</td>\n",
       "    </tr>\n",
       "    <tr>\n",
       "      <th>5</th>\n",
       "      <td>50-60</td>\n",
       "      <td>0.00</td>\n",
       "      <td>25.00</td>\n",
       "    </tr>\n",
       "    <tr>\n",
       "      <th>6</th>\n",
       "      <td>60-70</td>\n",
       "      <td>0.00</td>\n",
       "      <td>0.00</td>\n",
       "    </tr>\n",
       "    <tr>\n",
       "      <th>7</th>\n",
       "      <td>70-80</td>\n",
       "      <td>0.00</td>\n",
       "      <td>0.00</td>\n",
       "    </tr>\n",
       "    <tr>\n",
       "      <th>8</th>\n",
       "      <td>&gt;80</td>\n",
       "      <td>0.00</td>\n",
       "      <td>0.00</td>\n",
       "    </tr>\n",
       "  </tbody>\n",
       "</table>\n",
       "</div>"
      ],
      "text/plain": [
       "  Angle from Center  Left - Ratio Goals within Interval  \\\n",
       "0               <10                               15.00   \n",
       "1             10-20                                7.14   \n",
       "2             20-30                               27.78   \n",
       "3             30-40                                0.00   \n",
       "4             40-50                                6.25   \n",
       "5             50-60                                0.00   \n",
       "6             60-70                                0.00   \n",
       "7             70-80                                0.00   \n",
       "8               >80                                0.00   \n",
       "\n",
       "   Right - Ratio Goals within Interval  \n",
       "0                                13.33  \n",
       "1                                 7.69  \n",
       "2                                 5.88  \n",
       "3                                 8.33  \n",
       "4                                12.50  \n",
       "5                                25.00  \n",
       "6                                 0.00  \n",
       "7                                 0.00  \n",
       "8                                 0.00  "
      ]
     },
     "execution_count": 38,
     "metadata": {},
     "output_type": "execute_result"
    }
   ],
   "source": [
    "# Create a dataframe of shot angle intervals\n",
    "\n",
    "shot_angle_intervals = ['<10', '10-20', '20-30', '30-40', '40-50',\n",
    "                        '50-60', '60-70', '70-80', '>80']\n",
    "\n",
    "shot_angle_ratios = pd.DataFrame(shot_angle_intervals)\n",
    "\n",
    "shot_angle_ratios.rename(columns = {shot_angle_ratios.columns[0] : 'Angle from Center' },\n",
    "                         inplace = True)\n",
    "\n",
    "# Calculate ratio of total shots in 10-degree intervals from center\n",
    "left_angle_goal_shot_ratios = []\n",
    "for i in range(90, 180, 10):\n",
    "    goal_count = len(cleaned_data[(cleaned_data['shot_angle'] > i) &\n",
    "                                   (cleaned_data['shot_angle'] < (i + 10)) &\n",
    "                                   (cleaned_data['goal'] == True)])\n",
    "    shot_count = len(cleaned_data[(cleaned_data['shot_angle'] > i) &\n",
    "                                   (cleaned_data['shot_angle'] < (i + 10))])\n",
    "\n",
    "    if shot_count > 0:\n",
    "        left_angle_goal_shot_ratios.append(round((goal_count / shot_count) * 100, 2))\n",
    "    else:\n",
    "        left_angle_goal_shot_ratios.append(0)\n",
    "\n",
    "shot_angle_ratios['Left - Ratio Goals within Interval'] = left_angle_goal_shot_ratios\n",
    "\n",
    "right_angle_goal_shot_ratios = []\n",
    "for i in range(0, 90, 10):\n",
    "    goal_count = len(cleaned_data[(cleaned_data['shot_angle'] > i) &\n",
    "                                   (cleaned_data['shot_angle'] < (i + 10)) &\n",
    "                                   (cleaned_data['goal'] == True)])\n",
    "    shot_count = len(cleaned_data[(cleaned_data['shot_angle'] > i) &\n",
    "                                   (cleaned_data['shot_angle'] < (i + 10))])\n",
    "\n",
    "    if shot_count > 0:\n",
    "        right_angle_goal_shot_ratios.append(round((goal_count / shot_count) * 100, 2))\n",
    "    else:\n",
    "        right_angle_goal_shot_ratios.append(0)\n",
    "\n",
    "shot_angle_ratios['Right - Ratio Goals within Interval'] = right_angle_goal_shot_ratios\n",
    "shot_angle_ratios['Right - Ratio Goals within Interval'] = shot_angle_ratios['Right - Ratio Goals within Interval'].values[::-1]\n",
    "\n",
    "shot_angle_ratios\n"
   ]
  },
  {
   "cell_type": "code",
   "execution_count": 39,
   "metadata": {
    "colab": {
     "base_uri": "https://localhost:8080/",
     "height": 112
    },
    "executionInfo": {
     "elapsed": 336,
     "status": "ok",
     "timestamp": 1623933118138,
     "user": {
      "displayName": "Westin Swager",
      "photoUrl": "https://lh3.googleusercontent.com/a-/AOh14Ggc5FX85sLh-aVg8DzZeM6Y_apKolVWrP93ClFkIw=s64",
      "userId": "13397752590549051546"
     },
     "user_tz": 300
    },
    "id": "AbwlFyLw9L_2",
    "outputId": "911cc525-c83d-41ff-b3d2-9d3aab360803"
   },
   "outputs": [
    {
     "data": {
      "text/html": [
       "<div>\n",
       "<style scoped>\n",
       "    .dataframe tbody tr th:only-of-type {\n",
       "        vertical-align: middle;\n",
       "    }\n",
       "\n",
       "    .dataframe tbody tr th {\n",
       "        vertical-align: top;\n",
       "    }\n",
       "\n",
       "    .dataframe thead th {\n",
       "        text-align: right;\n",
       "    }\n",
       "</style>\n",
       "<table border=\"1\" class=\"dataframe\">\n",
       "  <thead>\n",
       "    <tr style=\"text-align: right;\">\n",
       "      <th></th>\n",
       "      <th>Side</th>\n",
       "      <th>Ratio Total Shots</th>\n",
       "      <th>Ratio Total Goals</th>\n",
       "      <th>Ratio Goals from Side</th>\n",
       "    </tr>\n",
       "  </thead>\n",
       "  <tbody>\n",
       "    <tr>\n",
       "      <th>0</th>\n",
       "      <td>Right</td>\n",
       "      <td>45.51</td>\n",
       "      <td>42.11</td>\n",
       "      <td>9.88</td>\n",
       "    </tr>\n",
       "    <tr>\n",
       "      <th>1</th>\n",
       "      <td>Left</td>\n",
       "      <td>53.93</td>\n",
       "      <td>52.63</td>\n",
       "      <td>10.42</td>\n",
       "    </tr>\n",
       "  </tbody>\n",
       "</table>\n",
       "</div>"
      ],
      "text/plain": [
       "    Side  Ratio Total Shots  Ratio Total Goals  Ratio Goals from Side\n",
       "0  Right              45.51              42.11                   9.88\n",
       "1   Left              53.93              52.63                  10.42"
      ]
     },
     "execution_count": 39,
     "metadata": {},
     "output_type": "execute_result"
    }
   ],
   "source": [
    "# Create a dataframe for shot side\n",
    "\n",
    "side_list = ['Right',\n",
    "             'Left']\n",
    "\n",
    "side_ratio = pd.DataFrame(side_list)\n",
    "\n",
    "side_ratio.rename(columns = {side_ratio.columns[0] : 'Side' },\n",
    "                            inplace = True)\n",
    "\n",
    "# Calculate ratio of shots and goals side\n",
    "\n",
    "side_shot_ratio = [(round((len(cleaned_data[cleaned_data['shot_angle'] < 90]) /\n",
    "                           len(cleaned_data)) * 100, 2)),\n",
    "                   (round((len(cleaned_data[cleaned_data['shot_angle'] > 90]) /\n",
    "                           len(cleaned_data)) * 100, 2))]\n",
    "\n",
    "side_goal_ratio = [(round((len(cleaned_data[(cleaned_data['shot_angle'] < 90) &\n",
    "                                            cleaned_data['goal'] == True]) /\n",
    "                           len(cleaned_data[cleaned_data['goal'] == True])) * 100, 2)),\n",
    "                   (round((len(cleaned_data[(cleaned_data['shot_angle'] > 90) &\n",
    "                                            cleaned_data['goal'] == True]) /\n",
    "                           len(cleaned_data[cleaned_data['goal'] == True])) * 100, 2))]\n",
    "\n",
    "side_shot_goal_ratio = [(round(((len(cleaned_data[(cleaned_data['shot_angle'] < 90) &\n",
    "                                                 (cleaned_data['goal'] == True)])) /\n",
    "                                (len(cleaned_data[(cleaned_data['shot_angle'] < 90)]))) * 100, 2)),\n",
    "                        (round(((len(cleaned_data[(cleaned_data['shot_angle'] > 90) &\n",
    "                                                 (cleaned_data['goal'] == True)])) /\n",
    "                                (len(cleaned_data[(cleaned_data['shot_angle'] > 90)]))) * 100, 2))]\n",
    "\n",
    "side_ratio['Ratio Total Shots'] = side_shot_ratio\n",
    "side_ratio['Ratio Total Goals'] = side_goal_ratio\n",
    "side_ratio['Ratio Goals from Side'] = side_shot_goal_ratio\n",
    "\n",
    "side_ratio"
   ]
  },
  {
   "cell_type": "code",
   "execution_count": 40,
   "metadata": {
    "colab": {
     "base_uri": "https://localhost:8080/"
    },
    "executionInfo": {
     "elapsed": 342,
     "status": "ok",
     "timestamp": 1623933135507,
     "user": {
      "displayName": "Westin Swager",
      "photoUrl": "https://lh3.googleusercontent.com/a-/AOh14Ggc5FX85sLh-aVg8DzZeM6Y_apKolVWrP93ClFkIw=s64",
      "userId": "13397752590549051546"
     },
     "user_tz": 300
    },
    "id": "3Hi6mFxk9Q76",
    "outputId": "fdc7c536-6aa8-46fe-b7c0-a06b37c6df0f"
   },
   "outputs": [
    {
     "name": "stdout",
     "output_type": "stream",
     "text": [
      "Ratio of Total Shots within 45-Degrees from Center: 75.84 %\n",
      "Ratio of Total Goals within 45-Degrees from Center: 84.21 %\n",
      "Ratio of Goals from Shots within 45-Degrees from Center: 11.85 %\n"
     ]
    }
   ],
   "source": [
    "print('Ratio of Total Shots within 45-Degrees from Center:',\n",
    "      (round(((len(cleaned_data[(cleaned_data['shot_angle'] > 45) &\n",
    "                                  (cleaned_data['shot_angle'] < 135)]) /\n",
    "                   len(cleaned_data)) *\n",
    "               100), 2)), '%')\n",
    "\n",
    "print('Ratio of Total Goals within 45-Degrees from Center:',\n",
    "      (round(((len(cleaned_data[(cleaned_data['shot_angle'] > 45) &\n",
    "                                  (cleaned_data['shot_angle'] < 135) &\n",
    "                                (cleaned_data['goal'] == True)]) /\n",
    "                   len(cleaned_data[cleaned_data['goal'] == True])) *\n",
    "               100), 2)), '%')\n",
    "\n",
    "print('Ratio of Goals from Shots within 45-Degrees from Center:',\n",
    "      (round(((len(cleaned_data[(cleaned_data['shot_angle'] > 45) &\n",
    "                                  (cleaned_data['shot_angle'] < 135) &\n",
    "                                (cleaned_data['goal'] == True)]) /\n",
    "                   len(cleaned_data[(cleaned_data['shot_angle'] > 45) &\n",
    "                                  (cleaned_data['shot_angle'] < 135)])) *\n",
    "               100), 2)), '%')"
   ]
  },
  {
   "cell_type": "code",
   "execution_count": 41,
   "metadata": {
    "colab": {
     "base_uri": "https://localhost:8080/",
     "height": 647
    },
    "executionInfo": {
     "elapsed": 971,
     "status": "ok",
     "timestamp": 1623933153404,
     "user": {
      "displayName": "Westin Swager",
      "photoUrl": "https://lh3.googleusercontent.com/a-/AOh14Ggc5FX85sLh-aVg8DzZeM6Y_apKolVWrP93ClFkIw=s64",
      "userId": "13397752590549051546"
     },
     "user_tz": 300
    },
    "id": "sjqNwwXu9UgL",
    "outputId": "97900924-c45a-4551-9218-af694ca19924"
   },
   "outputs": [
    {
     "data": {
      "image/png": "[encoded data removed]",
      "text/plain": [
       "<Figure size 1000x1000 with 1 Axes>"
      ]
     },
     "metadata": {},
     "output_type": "display_data"
    }
   ],
   "source": [
    "int_feature_v_goal('shot_angle','Angle')"
   ]
  },
  {
   "cell_type": "markdown",
   "metadata": {
    "id": "QwNnfjNY9f5u"
   },
   "source": [
    "\n",
    "The majority of shots are taken within a 50-degree angle from the center, with the distribution of total goals not differing significantly from the shot distribution.\n",
    "\n",
    "However, the ratio of goals from shots left of center is significantly higher (*and holds true at all intervals*)\n",
    "\n",
    "**Conclusion**\n",
    "\n",
    "Shots from angles approximately 20-30 degrees have the highest likelihood of scoring, so these shots from this area should be prioritized as a target in the team's player training and tactical planning."
   ]
  },
  {
   "cell_type": "markdown",
   "metadata": {
    "id": "v7d4KocKqN1z"
   },
   "source": [
    "While the ratio of shots at wider angles  from center is lower, the ratio of goals from shots at those angles is significantly higher.\n",
    "\n",
    "Extreme wide angles from center would naturally be closer to goal, due to the goals location on the endline.  Likely assists across the goal would be finished from an angle wider from center on the opposite side.\n",
    "\n",
    "**Conclusion**\n",
    "\n",
    "Considering the importance of Shot Distance as well as the correlation between very wide angle shots and goals, shots from wide angles and distances closer to goal should be prioritized as a target in the team's player training and tactical planning."
   ]
  },
  {
   "cell_type": "markdown",
   "metadata": {
    "id": "Kvod0Eoz_TvP"
   },
   "source": [
    "## Set Piece - Penalty"
   ]
  },
  {
   "cell_type": "markdown",
   "metadata": {
    "id": "ghMHyDGIYoIT"
   },
   "source": [
    "Set Piece - Penalty assuredly has a high importance due to the extremely high ratio of penalty shots which result in a goal."
   ]
  },
  {
   "cell_type": "code",
   "execution_count": 43,
   "metadata": {
    "colab": {
     "base_uri": "https://localhost:8080/"
    },
    "executionInfo": {
     "elapsed": 294,
     "status": "ok",
     "timestamp": 1623933827104,
     "user": {
      "displayName": "Westin Swager",
      "photoUrl": "https://lh3.googleusercontent.com/a-/AOh14Ggc5FX85sLh-aVg8DzZeM6Y_apKolVWrP93ClFkIw=s64",
      "userId": "13397752590549051546"
     },
     "user_tz": 300
    },
    "id": "lLS-N5Ly_Y0K",
    "outputId": "6b21ae4c-c82b-4cb2-d189-17a2f5a4f843"
   },
   "outputs": [
    {
     "name": "stdout",
     "output_type": "stream",
     "text": [
      "Ratio of Goals from Penalties: 50.0 %\n"
     ]
    }
   ],
   "source": [
    "print('Ratio of Goals from Penalties:',\n",
    "      (round(((len(cleaned_data[(cleaned_data['state_of_play'] == 'Set Piece - Penalty') &\n",
    "                                (cleaned_data['goal'] == True)]) /\n",
    "                   len(cleaned_data[cleaned_data['state_of_play'] == 'Set Piece - Penalty'])) *\n",
    "              100), 2)), '%')"
   ]
  },
  {
   "cell_type": "markdown",
   "metadata": {
    "id": "CjqqRVH5AA0r"
   },
   "source": [
    "Penalties are out of our control, so we ignore this. "
   ]
  },
  {
   "cell_type": "markdown",
   "metadata": {
    "id": "WOMYbYQc6nGP"
   },
   "source": [
    "# Filtering Data"
   ]
  },
  {
   "cell_type": "code",
   "execution_count": 44,
   "metadata": {
    "executionInfo": {
     "elapsed": 267,
     "status": "ok",
     "timestamp": 1623928089242,
     "user": {
      "displayName": "Westin Swager",
      "photoUrl": "https://lh3.googleusercontent.com/a-/AOh14Ggc5FX85sLh-aVg8DzZeM6Y_apKolVWrP93ClFkIw=s64",
      "userId": "13397752590549051546"
     },
     "user_tz": 300
    },
    "id": "wX3RNqL_kZNI"
   },
   "outputs": [],
   "source": [
    "# Filter dataframe\n",
    "\n",
    "player_team_df = final_data[['player','team','goal','xG']]\n",
    "\n",
    "# Calculate the difference between xG and actual goals\n",
    "\n",
    "player_team_df['xG_differance'] = player_team_df['goal'] - player_team_df['xG']\n",
    "\n",
    "player_team_df['xG'] = player_team_df['xG'].round(2)\n",
    "player_team_df['xG_differance'] = player_team_df['xG_differance'].round(2)"
   ]
  },
  {
   "cell_type": "markdown",
   "metadata": {
    "id": "-fdu5A840kie"
   },
   "source": [
    "## Applying to Players"
   ]
  },
  {
   "cell_type": "code",
   "execution_count": 45,
   "metadata": {
    "executionInfo": {
     "elapsed": 285,
     "status": "ok",
     "timestamp": 1623928091743,
     "user": {
      "displayName": "Westin Swager",
      "photoUrl": "https://lh3.googleusercontent.com/a-/AOh14Ggc5FX85sLh-aVg8DzZeM6Y_apKolVWrP93ClFkIw=s64",
      "userId": "13397752590549051546"
     },
     "user_tz": 300
    },
    "id": "zUQi6-ABjmg9"
   },
   "outputs": [],
   "source": [
    "player_df = player_team_df.groupby(['player']).sum()"
   ]
  },
  {
   "cell_type": "markdown",
   "metadata": {
    "id": "SfPIW1eV1AR6"
   },
   "source": [
    "### Top-10 Player xG"
   ]
  },
  {
   "cell_type": "code",
   "execution_count": 46,
   "metadata": {
    "colab": {
     "base_uri": "https://localhost:8080/",
     "height": 395
    },
    "executionInfo": {
     "elapsed": 316,
     "status": "ok",
     "timestamp": 1623928093045,
     "user": {
      "displayName": "Westin Swager",
      "photoUrl": "https://lh3.googleusercontent.com/a-/AOh14Ggc5FX85sLh-aVg8DzZeM6Y_apKolVWrP93ClFkIw=s64",
      "userId": "13397752590549051546"
     },
     "user_tz": 300
    },
    "id": "j5KqW2yMnbuk",
    "outputId": "c3367c7b-8a70-487e-fcb1-77b2cb252e9b"
   },
   "outputs": [
    {
     "data": {
      "text/html": [
       "<div>\n",
       "<style scoped>\n",
       "    .dataframe tbody tr th:only-of-type {\n",
       "        vertical-align: middle;\n",
       "    }\n",
       "\n",
       "    .dataframe tbody tr th {\n",
       "        vertical-align: top;\n",
       "    }\n",
       "\n",
       "    .dataframe thead th {\n",
       "        text-align: right;\n",
       "    }\n",
       "</style>\n",
       "<table border=\"1\" class=\"dataframe\">\n",
       "  <thead>\n",
       "    <tr style=\"text-align: right;\">\n",
       "      <th></th>\n",
       "      <th>goal</th>\n",
       "      <th>xG</th>\n",
       "      <th>xG_differance</th>\n",
       "    </tr>\n",
       "    <tr>\n",
       "      <th>player</th>\n",
       "      <th></th>\n",
       "      <th></th>\n",
       "      <th></th>\n",
       "    </tr>\n",
       "  </thead>\n",
       "  <tbody>\n",
       "    <tr>\n",
       "      <th>Khadija Monifa Shaw</th>\n",
       "      <td>6</td>\n",
       "      <td>18.95</td>\n",
       "      <td>-12.95</td>\n",
       "    </tr>\n",
       "    <tr>\n",
       "      <th>Chloe Kelly</th>\n",
       "      <td>1</td>\n",
       "      <td>6.47</td>\n",
       "      <td>-5.47</td>\n",
       "    </tr>\n",
       "    <tr>\n",
       "      <th>Deyna Cristina Castellanos Naujenis</th>\n",
       "      <td>1</td>\n",
       "      <td>6.42</td>\n",
       "      <td>-5.42</td>\n",
       "    </tr>\n",
       "    <tr>\n",
       "      <th>Lauren Hemp</th>\n",
       "      <td>2</td>\n",
       "      <td>4.50</td>\n",
       "      <td>-2.50</td>\n",
       "    </tr>\n",
       "    <tr>\n",
       "      <th>Hayley Emma Raso</th>\n",
       "      <td>1</td>\n",
       "      <td>2.98</td>\n",
       "      <td>-1.98</td>\n",
       "    </tr>\n",
       "    <tr>\n",
       "      <th>Laura Coombs</th>\n",
       "      <td>1</td>\n",
       "      <td>2.39</td>\n",
       "      <td>-1.39</td>\n",
       "    </tr>\n",
       "    <tr>\n",
       "      <th>Kirsty Hanson</th>\n",
       "      <td>1</td>\n",
       "      <td>2.00</td>\n",
       "      <td>-1.00</td>\n",
       "    </tr>\n",
       "    <tr>\n",
       "      <th>Yui Hasegawa</th>\n",
       "      <td>1</td>\n",
       "      <td>1.78</td>\n",
       "      <td>-0.78</td>\n",
       "    </tr>\n",
       "    <tr>\n",
       "      <th>Esme Beth Morgan</th>\n",
       "      <td>0</td>\n",
       "      <td>1.78</td>\n",
       "      <td>-1.78</td>\n",
       "    </tr>\n",
       "    <tr>\n",
       "      <th>Ingrid Filippa Angeldal</th>\n",
       "      <td>0</td>\n",
       "      <td>1.77</td>\n",
       "      <td>-1.77</td>\n",
       "    </tr>\n",
       "  </tbody>\n",
       "</table>\n",
       "</div>"
      ],
      "text/plain": [
       "                                     goal     xG  xG_differance\n",
       "player                                                         \n",
       "Khadija Monifa Shaw                     6  18.95         -12.95\n",
       "Chloe Kelly                             1   6.47          -5.47\n",
       "Deyna Cristina Castellanos Naujenis     1   6.42          -5.42\n",
       "Lauren Hemp                             2   4.50          -2.50\n",
       "Hayley Emma Raso                        1   2.98          -1.98\n",
       "Laura Coombs                            1   2.39          -1.39\n",
       "Kirsty Hanson                           1   2.00          -1.00\n",
       "Yui Hasegawa                            1   1.78          -0.78\n",
       "Esme Beth Morgan                        0   1.78          -1.78\n",
       "Ingrid Filippa Angeldal                 0   1.77          -1.77"
      ]
     },
     "execution_count": 46,
     "metadata": {},
     "output_type": "execute_result"
    }
   ],
   "source": [
    "player_df = player_df.sort_values(by = ['xG'],\n",
    "                                  ascending=False)\n",
    "\n",
    "player_df.head(10)"
   ]
  },
  {
   "cell_type": "markdown",
   "metadata": {
    "id": "Fns2RipI2nIt"
   },
   "source": [
    "### Top-10 Player Goals"
   ]
  },
  {
   "cell_type": "code",
   "execution_count": 47,
   "metadata": {
    "colab": {
     "base_uri": "https://localhost:8080/",
     "height": 395
    },
    "executionInfo": {
     "elapsed": 278,
     "status": "ok",
     "timestamp": 1623928099690,
     "user": {
      "displayName": "Westin Swager",
      "photoUrl": "https://lh3.googleusercontent.com/a-/AOh14Ggc5FX85sLh-aVg8DzZeM6Y_apKolVWrP93ClFkIw=s64",
      "userId": "13397752590549051546"
     },
     "user_tz": 300
    },
    "id": "RRlzweejnd8h",
    "outputId": "b03044f4-9691-439d-cdef-1080003b9aa5"
   },
   "outputs": [
    {
     "data": {
      "text/html": [
       "<div>\n",
       "<style scoped>\n",
       "    .dataframe tbody tr th:only-of-type {\n",
       "        vertical-align: middle;\n",
       "    }\n",
       "\n",
       "    .dataframe tbody tr th {\n",
       "        vertical-align: top;\n",
       "    }\n",
       "\n",
       "    .dataframe thead th {\n",
       "        text-align: right;\n",
       "    }\n",
       "</style>\n",
       "<table border=\"1\" class=\"dataframe\">\n",
       "  <thead>\n",
       "    <tr style=\"text-align: right;\">\n",
       "      <th></th>\n",
       "      <th>goal</th>\n",
       "      <th>xG</th>\n",
       "      <th>xG_differance</th>\n",
       "    </tr>\n",
       "    <tr>\n",
       "      <th>player</th>\n",
       "      <th></th>\n",
       "      <th></th>\n",
       "      <th></th>\n",
       "    </tr>\n",
       "  </thead>\n",
       "  <tbody>\n",
       "    <tr>\n",
       "      <th>Khadija Monifa Shaw</th>\n",
       "      <td>6</td>\n",
       "      <td>18.95</td>\n",
       "      <td>-12.95</td>\n",
       "    </tr>\n",
       "    <tr>\n",
       "      <th>Lauren Hemp</th>\n",
       "      <td>2</td>\n",
       "      <td>4.50</td>\n",
       "      <td>-2.50</td>\n",
       "    </tr>\n",
       "    <tr>\n",
       "      <th>Julie Blakstad</th>\n",
       "      <td>1</td>\n",
       "      <td>1.41</td>\n",
       "      <td>-0.41</td>\n",
       "    </tr>\n",
       "    <tr>\n",
       "      <th>Chloe Kelly</th>\n",
       "      <td>1</td>\n",
       "      <td>6.47</td>\n",
       "      <td>-5.47</td>\n",
       "    </tr>\n",
       "    <tr>\n",
       "      <th>Celin Bizet Ildhusøy</th>\n",
       "      <td>1</td>\n",
       "      <td>0.84</td>\n",
       "      <td>0.16</td>\n",
       "    </tr>\n",
       "    <tr>\n",
       "      <th>Katie Stengel</th>\n",
       "      <td>1</td>\n",
       "      <td>1.28</td>\n",
       "      <td>-0.28</td>\n",
       "    </tr>\n",
       "    <tr>\n",
       "      <th>Geum-Min Lee</th>\n",
       "      <td>1</td>\n",
       "      <td>1.29</td>\n",
       "      <td>-0.29</td>\n",
       "    </tr>\n",
       "    <tr>\n",
       "      <th>Rafaelle Leone Carvalho Souza</th>\n",
       "      <td>1</td>\n",
       "      <td>0.38</td>\n",
       "      <td>0.62</td>\n",
       "    </tr>\n",
       "    <tr>\n",
       "      <th>Yui Hasegawa</th>\n",
       "      <td>1</td>\n",
       "      <td>1.78</td>\n",
       "      <td>-0.78</td>\n",
       "    </tr>\n",
       "    <tr>\n",
       "      <th>Kirsty Hanson</th>\n",
       "      <td>1</td>\n",
       "      <td>2.00</td>\n",
       "      <td>-1.00</td>\n",
       "    </tr>\n",
       "  </tbody>\n",
       "</table>\n",
       "</div>"
      ],
      "text/plain": [
       "                               goal     xG  xG_differance\n",
       "player                                                   \n",
       "Khadija Monifa Shaw               6  18.95         -12.95\n",
       "Lauren Hemp                       2   4.50          -2.50\n",
       "Julie Blakstad                    1   1.41          -0.41\n",
       "Chloe Kelly                       1   6.47          -5.47\n",
       "Celin Bizet Ildhusøy              1   0.84           0.16\n",
       "Katie Stengel                     1   1.28          -0.28\n",
       "Geum-Min Lee                      1   1.29          -0.29\n",
       "Rafaelle Leone Carvalho Souza     1   0.38           0.62\n",
       "Yui Hasegawa                      1   1.78          -0.78\n",
       "Kirsty Hanson                     1   2.00          -1.00"
      ]
     },
     "execution_count": 47,
     "metadata": {},
     "output_type": "execute_result"
    }
   ],
   "source": [
    "player_df = player_df.sort_values(by = ['goal'],\n",
    "                                  ascending=False)\n",
    "\n",
    "player_df.head(10)"
   ]
  },
  {
   "cell_type": "markdown",
   "metadata": {
    "id": "YkiiLwPd1H0X"
   },
   "source": [
    "This can help us decide if a player is over or under scoring v their xG. However, there is not enough data on plays, besides Khadija Monifa Shaw. "
   ]
  },
  {
   "cell_type": "markdown",
   "metadata": {
    "id": "e424WHXl417x"
   },
   "source": [
    "## Applying to Teams"
   ]
  },
  {
   "cell_type": "code",
   "execution_count": 48,
   "metadata": {
    "executionInfo": {
     "elapsed": 308,
     "status": "ok",
     "timestamp": 1623932007696,
     "user": {
      "displayName": "Westin Swager",
      "photoUrl": "https://lh3.googleusercontent.com/a-/AOh14Ggc5FX85sLh-aVg8DzZeM6Y_apKolVWrP93ClFkIw=s64",
      "userId": "13397752590549051546"
     },
     "user_tz": 300
    },
    "id": "y9_-0UIxn_ba"
   },
   "outputs": [],
   "source": [
    "team_df = player_team_df.groupby(['team']).sum()"
   ]
  },
  {
   "cell_type": "markdown",
   "metadata": {
    "id": "0eofLcOz45I0"
   },
   "source": [
    "### Top-10 Team xG"
   ]
  },
  {
   "cell_type": "code",
   "execution_count": 49,
   "metadata": {
    "colab": {
     "base_uri": "https://localhost:8080/",
     "height": 395
    },
    "executionInfo": {
     "elapsed": 280,
     "status": "ok",
     "timestamp": 1623932009337,
     "user": {
      "displayName": "Westin Swager",
      "photoUrl": "https://lh3.googleusercontent.com/a-/AOh14Ggc5FX85sLh-aVg8DzZeM6Y_apKolVWrP93ClFkIw=s64",
      "userId": "13397752590549051546"
     },
     "user_tz": 300
    },
    "id": "HLMWNf7-mnQN",
    "outputId": "c6198e61-f00c-416b-d9f5-76a56e41cb81"
   },
   "outputs": [
    {
     "data": {
      "text/html": [
       "<div>\n",
       "<style scoped>\n",
       "    .dataframe tbody tr th:only-of-type {\n",
       "        vertical-align: middle;\n",
       "    }\n",
       "\n",
       "    .dataframe tbody tr th {\n",
       "        vertical-align: top;\n",
       "    }\n",
       "\n",
       "    .dataframe thead th {\n",
       "        text-align: right;\n",
       "    }\n",
       "</style>\n",
       "<table border=\"1\" class=\"dataframe\">\n",
       "  <thead>\n",
       "    <tr style=\"text-align: right;\">\n",
       "      <th></th>\n",
       "      <th>goal</th>\n",
       "      <th>xG</th>\n",
       "      <th>xG_differance</th>\n",
       "    </tr>\n",
       "    <tr>\n",
       "      <th>team</th>\n",
       "      <th></th>\n",
       "      <th></th>\n",
       "      <th></th>\n",
       "    </tr>\n",
       "  </thead>\n",
       "  <tbody>\n",
       "    <tr>\n",
       "      <th>Manchester City WFC</th>\n",
       "      <td>15</td>\n",
       "      <td>51.57</td>\n",
       "      <td>-36.57</td>\n",
       "    </tr>\n",
       "    <tr>\n",
       "      <th>Aston Villa</th>\n",
       "      <td>1</td>\n",
       "      <td>4.05</td>\n",
       "      <td>-3.05</td>\n",
       "    </tr>\n",
       "    <tr>\n",
       "      <th>Liverpool WFC</th>\n",
       "      <td>0</td>\n",
       "      <td>3.84</td>\n",
       "      <td>-3.84</td>\n",
       "    </tr>\n",
       "    <tr>\n",
       "      <th>Brighton &amp; Hove Albion WFC</th>\n",
       "      <td>1</td>\n",
       "      <td>3.29</td>\n",
       "      <td>-2.29</td>\n",
       "    </tr>\n",
       "    <tr>\n",
       "      <th>Tottenham Hotspur Women</th>\n",
       "      <td>1</td>\n",
       "      <td>2.16</td>\n",
       "      <td>-1.16</td>\n",
       "    </tr>\n",
       "    <tr>\n",
       "      <th>Arsenal WFC</th>\n",
       "      <td>1</td>\n",
       "      <td>1.96</td>\n",
       "      <td>-0.96</td>\n",
       "    </tr>\n",
       "    <tr>\n",
       "      <th>Leicester City WFC</th>\n",
       "      <td>0</td>\n",
       "      <td>1.02</td>\n",
       "      <td>-1.02</td>\n",
       "    </tr>\n",
       "  </tbody>\n",
       "</table>\n",
       "</div>"
      ],
      "text/plain": [
       "                            goal     xG  xG_differance\n",
       "team                                                  \n",
       "Manchester City WFC           15  51.57         -36.57\n",
       "Aston Villa                    1   4.05          -3.05\n",
       "Liverpool WFC                  0   3.84          -3.84\n",
       "Brighton & Hove Albion WFC     1   3.29          -2.29\n",
       "Tottenham Hotspur Women        1   2.16          -1.16\n",
       "Arsenal WFC                    1   1.96          -0.96\n",
       "Leicester City WFC             0   1.02          -1.02"
      ]
     },
     "execution_count": 49,
     "metadata": {},
     "output_type": "execute_result"
    }
   ],
   "source": [
    "team_df = team_df.sort_values(by = ['xG'],\n",
    "                                  ascending=False)\n",
    "\n",
    "team_df.head(10)"
   ]
  },
  {
   "cell_type": "markdown",
   "metadata": {
    "id": "DiQGvr6J5D1j"
   },
   "source": [
    "Top-10 Team Goals"
   ]
  },
  {
   "cell_type": "code",
   "execution_count": 50,
   "metadata": {
    "colab": {
     "base_uri": "https://localhost:8080/",
     "height": 395
    },
    "executionInfo": {
     "elapsed": 18,
     "status": "ok",
     "timestamp": 1623928103842,
     "user": {
      "displayName": "Westin Swager",
      "photoUrl": "https://lh3.googleusercontent.com/a-/AOh14Ggc5FX85sLh-aVg8DzZeM6Y_apKolVWrP93ClFkIw=s64",
      "userId": "13397752590549051546"
     },
     "user_tz": 300
    },
    "id": "TPrrlK08oZdx",
    "outputId": "79893ce4-d9ac-4ac2-f548-1b7075266084"
   },
   "outputs": [
    {
     "data": {
      "text/html": [
       "<div>\n",
       "<style scoped>\n",
       "    .dataframe tbody tr th:only-of-type {\n",
       "        vertical-align: middle;\n",
       "    }\n",
       "\n",
       "    .dataframe tbody tr th {\n",
       "        vertical-align: top;\n",
       "    }\n",
       "\n",
       "    .dataframe thead th {\n",
       "        text-align: right;\n",
       "    }\n",
       "</style>\n",
       "<table border=\"1\" class=\"dataframe\">\n",
       "  <thead>\n",
       "    <tr style=\"text-align: right;\">\n",
       "      <th></th>\n",
       "      <th>goal</th>\n",
       "      <th>xG</th>\n",
       "      <th>xG_differance</th>\n",
       "    </tr>\n",
       "    <tr>\n",
       "      <th>team</th>\n",
       "      <th></th>\n",
       "      <th></th>\n",
       "      <th></th>\n",
       "    </tr>\n",
       "  </thead>\n",
       "  <tbody>\n",
       "    <tr>\n",
       "      <th>Manchester City WFC</th>\n",
       "      <td>15</td>\n",
       "      <td>51.57</td>\n",
       "      <td>-36.57</td>\n",
       "    </tr>\n",
       "    <tr>\n",
       "      <th>Aston Villa</th>\n",
       "      <td>1</td>\n",
       "      <td>4.05</td>\n",
       "      <td>-3.05</td>\n",
       "    </tr>\n",
       "    <tr>\n",
       "      <th>Brighton &amp; Hove Albion WFC</th>\n",
       "      <td>1</td>\n",
       "      <td>3.29</td>\n",
       "      <td>-2.29</td>\n",
       "    </tr>\n",
       "    <tr>\n",
       "      <th>Tottenham Hotspur Women</th>\n",
       "      <td>1</td>\n",
       "      <td>2.16</td>\n",
       "      <td>-1.16</td>\n",
       "    </tr>\n",
       "    <tr>\n",
       "      <th>Arsenal WFC</th>\n",
       "      <td>1</td>\n",
       "      <td>1.96</td>\n",
       "      <td>-0.96</td>\n",
       "    </tr>\n",
       "    <tr>\n",
       "      <th>Liverpool WFC</th>\n",
       "      <td>0</td>\n",
       "      <td>3.84</td>\n",
       "      <td>-3.84</td>\n",
       "    </tr>\n",
       "    <tr>\n",
       "      <th>Leicester City WFC</th>\n",
       "      <td>0</td>\n",
       "      <td>1.02</td>\n",
       "      <td>-1.02</td>\n",
       "    </tr>\n",
       "  </tbody>\n",
       "</table>\n",
       "</div>"
      ],
      "text/plain": [
       "                            goal     xG  xG_differance\n",
       "team                                                  \n",
       "Manchester City WFC           15  51.57         -36.57\n",
       "Aston Villa                    1   4.05          -3.05\n",
       "Brighton & Hove Albion WFC     1   3.29          -2.29\n",
       "Tottenham Hotspur Women        1   2.16          -1.16\n",
       "Arsenal WFC                    1   1.96          -0.96\n",
       "Liverpool WFC                  0   3.84          -3.84\n",
       "Leicester City WFC             0   1.02          -1.02"
      ]
     },
     "execution_count": 50,
     "metadata": {},
     "output_type": "execute_result"
    }
   ],
   "source": [
    "team_df = team_df.sort_values(by = ['goal'],ascending=False)\n",
    "\n",
    "team_df.head(10)"
   ]
  },
  {
   "cell_type": "markdown",
   "metadata": {
    "id": "tLswtzlf5HOC"
   },
   "source": [
    "This can help us decide if a team is over or under scoring v their xG. However, there is not enough data on teams, besides Man City, who is vastly under-scoring. "
   ]
  },
  {
   "cell_type": "markdown",
   "metadata": {
    "id": "RlMtFQFMAWxs"
   },
   "source": [
    "# Future Expansions"
   ]
  },
  {
   "cell_type": "markdown",
   "metadata": {
    "id": "p8d0ZdbSAZc6"
   },
   "source": [
    "* Get more data so we can pull information on players and teams\n",
    "\n",
    "* Create a feature that creates a triangle between the shot and each goal post, then figures out who/what is in that triangle\n",
    "\n",
    "* Visualize Xg throughout the match versus the final score / outcome of the match\n",
    "\n",
    "* Extract for assist-specific features in order to build an Expected Assist (xA)"
   ]
  }
 ],
 "metadata": {
  "colab": {
   "collapsed_sections": [],
   "name": "expected_goals_conclusions_notebook.ipynb",
   "provenance": [],
   "toc_visible": true
  },
  "kernelspec": {
   "display_name": "Python 3 (ipykernel)",
   "language": "python",
   "name": "python3"
  },
  "language_info": {
   "codemirror_mode": {
    "name": "ipython",
    "version": 3
   },
   "file_extension": ".py",
   "mimetype": "text/x-python",
   "name": "python",
   "nbconvert_exporter": "python",
   "pygments_lexer": "ipython3",
   "version": "3.10.7"
  }
 },
 "nbformat": 4,
 "nbformat_minor": 1
}
